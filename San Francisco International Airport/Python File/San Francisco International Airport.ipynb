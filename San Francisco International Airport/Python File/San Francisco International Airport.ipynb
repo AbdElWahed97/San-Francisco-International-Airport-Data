{
 "cells": [
  {
   "cell_type": "code",
   "execution_count": 1,
   "id": "fd37c6d8",
   "metadata": {},
   "outputs": [],
   "source": [
    "import pandas as pd\n",
    "import numpy as np"
   ]
  },
  {
   "cell_type": "code",
   "execution_count": 2,
   "id": "ffa365ca",
   "metadata": {},
   "outputs": [],
   "source": [
    "data = pd.read_excel(r'Desktop/air travel dataset.xlsx')"
   ]
  },
  {
   "cell_type": "code",
   "execution_count": 4,
   "id": "7153074a",
   "metadata": {},
   "outputs": [
    {
     "data": {
      "text/plain": [
       "Index(['Geometry Coordinates 0 0', 'Geometry Coordinates 0 1',\n",
       "       'Geometry Coordinates 1 0', 'Geometry Coordinates 1 1', 'Geometry Type',\n",
       "       ' Cessation', ' Inception', ' Actual Timestamp', ' Airline',\n",
       "       ' Base Airline', ' Base Flight Number', 'Date', ' Estimated Timestamp',\n",
       "       ' Event', ' Flight Number', ' Gate', 'Departure', 'Destination'],\n",
       "      dtype='object')"
      ]
     },
     "execution_count": 4,
     "metadata": {},
     "output_type": "execute_result"
    }
   ],
   "source": [
    "data.columns"
   ]
  },
  {
   "cell_type": "code",
   "execution_count": 5,
   "id": "efa76e1d",
   "metadata": {},
   "outputs": [],
   "source": [
    "data.columns = ['Departure Longitude', 'Departure Latitude',\n",
    "       'Destination Longitude', 'Destination Latitude', 'Geometry Type',\n",
    "       ' Cessation', ' Inception', ' Actual Timestamp', ' Airline',\n",
    "       ' Base Airline', ' Base Flight Number', 'Date', ' Estimated Timestamp',\n",
    "       ' Event', ' Flight Number', ' Gate', 'Departure', 'Destination']"
   ]
  },
  {
   "cell_type": "code",
   "execution_count": 6,
   "id": "664960d3",
   "metadata": {},
   "outputs": [
    {
     "data": {
      "text/html": [
       "<div>\n",
       "<style scoped>\n",
       "    .dataframe tbody tr th:only-of-type {\n",
       "        vertical-align: middle;\n",
       "    }\n",
       "\n",
       "    .dataframe tbody tr th {\n",
       "        vertical-align: top;\n",
       "    }\n",
       "\n",
       "    .dataframe thead th {\n",
       "        text-align: right;\n",
       "    }\n",
       "</style>\n",
       "<table border=\"1\" class=\"dataframe\">\n",
       "  <thead>\n",
       "    <tr style=\"text-align: right;\">\n",
       "      <th></th>\n",
       "      <th>Departure Longitude</th>\n",
       "      <th>Departure Latitude</th>\n",
       "      <th>Destination Longitude</th>\n",
       "      <th>Destination Latitude</th>\n",
       "      <th>Distance</th>\n",
       "      <th>Geometry Type</th>\n",
       "      <th>Cessation</th>\n",
       "      <th>Inception</th>\n",
       "      <th>Actual Timestamp</th>\n",
       "      <th>Airline</th>\n",
       "      <th>Base Airline</th>\n",
       "      <th>Base Flight Number</th>\n",
       "      <th>Date</th>\n",
       "      <th>Estimated Timestamp</th>\n",
       "      <th>Event</th>\n",
       "      <th>Flight Number</th>\n",
       "      <th>Gate</th>\n",
       "      <th>Departure</th>\n",
       "      <th>Destination</th>\n",
       "    </tr>\n",
       "  </thead>\n",
       "  <tbody>\n",
       "    <tr>\n",
       "      <th>0</th>\n",
       "      <td>-122.370943</td>\n",
       "      <td>37.61799</td>\n",
       "      <td>-118.353322</td>\n",
       "      <td>34.196704</td>\n",
       "      <td></td>\n",
       "      <td>MultiPoint</td>\n",
       "      <td>2020-03-02 00:00:00</td>\n",
       "      <td>uuuu</td>\n",
       "      <td>1583174520</td>\n",
       "      <td>AC</td>\n",
       "      <td>UA</td>\n",
       "      <td>5628.0</td>\n",
       "      <td>2020-03-02</td>\n",
       "      <td>1583174520</td>\n",
       "      <td>D</td>\n",
       "      <td>AC4173</td>\n",
       "      <td>F5</td>\n",
       "      <td>SFO</td>\n",
       "      <td>BUR</td>\n",
       "    </tr>\n",
       "    <tr>\n",
       "      <th>1</th>\n",
       "      <td>-122.370943</td>\n",
       "      <td>37.61799</td>\n",
       "      <td>-118.353322</td>\n",
       "      <td>34.196704</td>\n",
       "      <td></td>\n",
       "      <td>MultiPoint</td>\n",
       "      <td>2020-03-02 00:00:00</td>\n",
       "      <td>uuuu</td>\n",
       "      <td>1583201580</td>\n",
       "      <td>AC</td>\n",
       "      <td>UA</td>\n",
       "      <td>5233.0</td>\n",
       "      <td>2020-03-02</td>\n",
       "      <td>1583201580</td>\n",
       "      <td>D</td>\n",
       "      <td>AC4396</td>\n",
       "      <td>F15K</td>\n",
       "      <td>SFO</td>\n",
       "      <td>BUR</td>\n",
       "    </tr>\n",
       "    <tr>\n",
       "      <th>2</th>\n",
       "      <td>-122.370943</td>\n",
       "      <td>37.61799</td>\n",
       "      <td>-118.353322</td>\n",
       "      <td>34.196704</td>\n",
       "      <td></td>\n",
       "      <td>MultiPoint</td>\n",
       "      <td>2020-03-02 00:00:00</td>\n",
       "      <td>uuuu</td>\n",
       "      <td>1583195520</td>\n",
       "      <td>AC</td>\n",
       "      <td>UA</td>\n",
       "      <td>5318.0</td>\n",
       "      <td>2020-03-02</td>\n",
       "      <td>1583195520</td>\n",
       "      <td>D</td>\n",
       "      <td>AC5514</td>\n",
       "      <td>F15K</td>\n",
       "      <td>SFO</td>\n",
       "      <td>BUR</td>\n",
       "    </tr>\n",
       "    <tr>\n",
       "      <th>3</th>\n",
       "      <td>-122.370943</td>\n",
       "      <td>37.61799</td>\n",
       "      <td>-118.353322</td>\n",
       "      <td>34.196704</td>\n",
       "      <td></td>\n",
       "      <td>MultiPoint</td>\n",
       "      <td>2020-03-02 00:00:00</td>\n",
       "      <td>uuuu</td>\n",
       "      <td>1583163840</td>\n",
       "      <td>AC</td>\n",
       "      <td>UA</td>\n",
       "      <td>5920.0</td>\n",
       "      <td>2020-03-02</td>\n",
       "      <td>1583163840</td>\n",
       "      <td>D</td>\n",
       "      <td>AC4094</td>\n",
       "      <td>F15L</td>\n",
       "      <td>SFO</td>\n",
       "      <td>BUR</td>\n",
       "    </tr>\n",
       "    <tr>\n",
       "      <th>4</th>\n",
       "      <td>-122.370943</td>\n",
       "      <td>37.61799</td>\n",
       "      <td>-118.353322</td>\n",
       "      <td>34.196704</td>\n",
       "      <td></td>\n",
       "      <td>MultiPoint</td>\n",
       "      <td>2020-03-02 00:00:00</td>\n",
       "      <td>uuuu</td>\n",
       "      <td>1583187540</td>\n",
       "      <td>AC</td>\n",
       "      <td>UA</td>\n",
       "      <td>5717.0</td>\n",
       "      <td>2020-03-02</td>\n",
       "      <td>1583187540</td>\n",
       "      <td>D</td>\n",
       "      <td>AC4388</td>\n",
       "      <td>F15L</td>\n",
       "      <td>SFO</td>\n",
       "      <td>BUR</td>\n",
       "    </tr>\n",
       "  </tbody>\n",
       "</table>\n",
       "</div>"
      ],
      "text/plain": [
       "   Departure Longitude  Departure Latitude  Destination Longitude  \\\n",
       "0          -122.370943            37.61799            -118.353322   \n",
       "1          -122.370943            37.61799            -118.353322   \n",
       "2          -122.370943            37.61799            -118.353322   \n",
       "3          -122.370943            37.61799            -118.353322   \n",
       "4          -122.370943            37.61799            -118.353322   \n",
       "\n",
       "   Destination Latitude Distance Geometry Type            Cessation  \\\n",
       "0             34.196704             MultiPoint  2020-03-02 00:00:00   \n",
       "1             34.196704             MultiPoint  2020-03-02 00:00:00   \n",
       "2             34.196704             MultiPoint  2020-03-02 00:00:00   \n",
       "3             34.196704             MultiPoint  2020-03-02 00:00:00   \n",
       "4             34.196704             MultiPoint  2020-03-02 00:00:00   \n",
       "\n",
       "   Inception   Actual Timestamp  Airline  Base Airline   Base Flight Number  \\\n",
       "0       uuuu         1583174520       AC            UA               5628.0   \n",
       "1       uuuu         1583201580       AC            UA               5233.0   \n",
       "2       uuuu         1583195520       AC            UA               5318.0   \n",
       "3       uuuu         1583163840       AC            UA               5920.0   \n",
       "4       uuuu         1583187540       AC            UA               5717.0   \n",
       "\n",
       "        Date   Estimated Timestamp  Event  Flight Number  Gate Departure  \\\n",
       "0 2020-03-02            1583174520      D         AC4173    F5       SFO   \n",
       "1 2020-03-02            1583201580      D         AC4396  F15K       SFO   \n",
       "2 2020-03-02            1583195520      D         AC5514  F15K       SFO   \n",
       "3 2020-03-02            1583163840      D         AC4094  F15L       SFO   \n",
       "4 2020-03-02            1583187540      D         AC4388  F15L       SFO   \n",
       "\n",
       "  Destination  \n",
       "0         BUR  \n",
       "1         BUR  \n",
       "2         BUR  \n",
       "3         BUR  \n",
       "4         BUR  "
      ]
     },
     "execution_count": 6,
     "metadata": {},
     "output_type": "execute_result"
    }
   ],
   "source": [
    "data.insert(4,'Distance','')"
   ]
  },
  {
   "cell_type": "code",
   "execution_count": 8,
   "id": "fc2c0c63",
   "metadata": {},
   "outputs": [],
   "source": [
    "hlong = np.radians(data['Departure Longitude']-data['Destination Longitude'])\n",
    "hlat = np.radians(data['Departure Latitude']-data['Destination Latitude'])"
   ]
  },
  {
   "cell_type": "code",
   "execution_count": 9,
   "id": "00258d6c",
   "metadata": {},
   "outputs": [],
   "source": [
    "r = 6371"
   ]
  },
  {
   "cell_type": "code",
   "execution_count": 10,
   "id": "2abb7a1b",
   "metadata": {},
   "outputs": [],
   "source": [
    "H = (np.sin(hlong/2) * np.sin(hlong/2)) + ( np.sin(hlat/2) * np.sin(hlat/2) * np.cos(np.radians(data['Departure Latitude'])) * np.cos(np.radians(data['Destination Latitude'])))"
   ]
  },
  {
   "cell_type": "code",
   "execution_count": 12,
   "id": "661b0630",
   "metadata": {},
   "outputs": [],
   "source": [
    "c=[]"
   ]
  },
  {
   "cell_type": "code",
   "execution_count": 20,
   "id": "44169a1e",
   "metadata": {},
   "outputs": [
    {
     "ename": "TypeError",
     "evalue": "'numpy.float64' object cannot be interpreted as an integer",
     "output_type": "error",
     "traceback": [
      "\u001b[1;31m---------------------------------------------------------------------------\u001b[0m",
      "\u001b[1;31mTypeError\u001b[0m                                 Traceback (most recent call last)",
      "\u001b[1;32m<ipython-input-20-a72b2275d89e>\u001b[0m in \u001b[0;36m<module>\u001b[1;34m\u001b[0m\n\u001b[0;32m      3\u001b[0m         \u001b[0mc\u001b[0m\u001b[1;33m.\u001b[0m\u001b[0mappend\u001b[0m\u001b[1;33m(\u001b[0m\u001b[1;36m2\u001b[0m \u001b[1;33m*\u001b[0m \u001b[0mnp\u001b[0m\u001b[1;33m.\u001b[0m\u001b[0marctan2\u001b[0m\u001b[1;33m(\u001b[0m\u001b[0mnp\u001b[0m\u001b[1;33m.\u001b[0m\u001b[0msqrt\u001b[0m\u001b[1;33m(\u001b[0m \u001b[0mH\u001b[0m\u001b[1;33m.\u001b[0m\u001b[0miloc\u001b[0m\u001b[1;33m[\u001b[0m\u001b[0mi\u001b[0m\u001b[1;33m]\u001b[0m\u001b[1;33m)\u001b[0m\u001b[1;33m,\u001b[0m \u001b[0mnp\u001b[0m\u001b[1;33m.\u001b[0m\u001b[0msqrt\u001b[0m\u001b[1;33m(\u001b[0m\u001b[1;36m1\u001b[0m\u001b[1;33m-\u001b[0m \u001b[0mH\u001b[0m\u001b[1;33m.\u001b[0m\u001b[0miloc\u001b[0m\u001b[1;33m[\u001b[0m\u001b[0mi\u001b[0m\u001b[1;33m]\u001b[0m\u001b[1;33m)\u001b[0m\u001b[1;33m)\u001b[0m\u001b[1;33m)\u001b[0m\u001b[1;33m\u001b[0m\u001b[1;33m\u001b[0m\u001b[0m\n\u001b[0;32m      4\u001b[0m     \u001b[1;32melse\u001b[0m\u001b[1;33m:\u001b[0m\u001b[1;33m\u001b[0m\u001b[1;33m\u001b[0m\u001b[0m\n\u001b[1;32m----> 5\u001b[1;33m         \u001b[0mc\u001b[0m\u001b[1;33m.\u001b[0m\u001b[0mappend\u001b[0m\u001b[1;33m(\u001b[0m\u001b[1;36m2\u001b[0m \u001b[1;33m*\u001b[0m \u001b[0mnp\u001b[0m\u001b[1;33m.\u001b[0m\u001b[0marcsin\u001b[0m\u001b[1;33m(\u001b[0m\u001b[0mnp\u001b[0m\u001b[1;33m.\u001b[0m\u001b[0mmin\u001b[0m\u001b[1;33m(\u001b[0m\u001b[1;36m1\u001b[0m\u001b[1;33m,\u001b[0m \u001b[0mnp\u001b[0m\u001b[1;33m.\u001b[0m\u001b[0msqrt\u001b[0m\u001b[1;33m(\u001b[0m \u001b[0mH\u001b[0m\u001b[1;33m.\u001b[0m\u001b[0miloc\u001b[0m\u001b[1;33m[\u001b[0m\u001b[0mi\u001b[0m\u001b[1;33m]\u001b[0m\u001b[1;33m)\u001b[0m\u001b[1;33m)\u001b[0m\u001b[1;33m)\u001b[0m\u001b[1;33m)\u001b[0m\u001b[1;33m\u001b[0m\u001b[1;33m\u001b[0m\u001b[0m\n\u001b[0m",
      "\u001b[1;32m<__array_function__ internals>\u001b[0m in \u001b[0;36mamin\u001b[1;34m(*args, **kwargs)\u001b[0m\n",
      "\u001b[1;32m~\\anaconda3\\lib\\site-packages\\numpy\\core\\fromnumeric.py\u001b[0m in \u001b[0;36mamin\u001b[1;34m(a, axis, out, keepdims, initial, where)\u001b[0m\n\u001b[0;32m   2856\u001b[0m     \u001b[1;36m6\u001b[0m\u001b[1;33m\u001b[0m\u001b[1;33m\u001b[0m\u001b[0m\n\u001b[0;32m   2857\u001b[0m     \"\"\"\n\u001b[1;32m-> 2858\u001b[1;33m     return _wrapreduction(a, np.minimum, 'min', axis, None, out,\n\u001b[0m\u001b[0;32m   2859\u001b[0m                           keepdims=keepdims, initial=initial, where=where)\n\u001b[0;32m   2860\u001b[0m \u001b[1;33m\u001b[0m\u001b[0m\n",
      "\u001b[1;32m~\\anaconda3\\lib\\site-packages\\numpy\\core\\fromnumeric.py\u001b[0m in \u001b[0;36m_wrapreduction\u001b[1;34m(obj, ufunc, method, axis, dtype, out, **kwargs)\u001b[0m\n\u001b[0;32m     85\u001b[0m                 \u001b[1;32mreturn\u001b[0m \u001b[0mreduction\u001b[0m\u001b[1;33m(\u001b[0m\u001b[0maxis\u001b[0m\u001b[1;33m=\u001b[0m\u001b[0maxis\u001b[0m\u001b[1;33m,\u001b[0m \u001b[0mout\u001b[0m\u001b[1;33m=\u001b[0m\u001b[0mout\u001b[0m\u001b[1;33m,\u001b[0m \u001b[1;33m**\u001b[0m\u001b[0mpasskwargs\u001b[0m\u001b[1;33m)\u001b[0m\u001b[1;33m\u001b[0m\u001b[1;33m\u001b[0m\u001b[0m\n\u001b[0;32m     86\u001b[0m \u001b[1;33m\u001b[0m\u001b[0m\n\u001b[1;32m---> 87\u001b[1;33m     \u001b[1;32mreturn\u001b[0m \u001b[0mufunc\u001b[0m\u001b[1;33m.\u001b[0m\u001b[0mreduce\u001b[0m\u001b[1;33m(\u001b[0m\u001b[0mobj\u001b[0m\u001b[1;33m,\u001b[0m \u001b[0maxis\u001b[0m\u001b[1;33m,\u001b[0m \u001b[0mdtype\u001b[0m\u001b[1;33m,\u001b[0m \u001b[0mout\u001b[0m\u001b[1;33m,\u001b[0m \u001b[1;33m**\u001b[0m\u001b[0mpasskwargs\u001b[0m\u001b[1;33m)\u001b[0m\u001b[1;33m\u001b[0m\u001b[1;33m\u001b[0m\u001b[0m\n\u001b[0m\u001b[0;32m     88\u001b[0m \u001b[1;33m\u001b[0m\u001b[0m\n\u001b[0;32m     89\u001b[0m \u001b[1;33m\u001b[0m\u001b[0m\n",
      "\u001b[1;31mTypeError\u001b[0m: 'numpy.float64' object cannot be interpreted as an integer"
     ]
    }
   ],
   "source": [
    "for i in range(H.shape[0]):\n",
    "    if H.iloc[i] < 1:\n",
    "        c.append(2 * np.arctan2(np.sqrt( H.iloc[i]), np.sqrt(1- H.iloc[i])))\n",
    "    else:\n",
    "        c.append(2 * np.arcsin(np.min(1, np.sqrt( H.iloc[i]))))"
   ]
  },
  {
   "cell_type": "code",
   "execution_count": 14,
   "id": "10f0ee97",
   "metadata": {},
   "outputs": [],
   "source": [
    "C = pd.Series(c)"
   ]
  },
  {
   "cell_type": "code",
   "execution_count": 16,
   "id": "fa666321",
   "metadata": {},
   "outputs": [],
   "source": [
    "C = C * r"
   ]
  },
  {
   "cell_type": "code",
   "execution_count": 17,
   "id": "94c739ce",
   "metadata": {},
   "outputs": [],
   "source": [
    "data['Distance'] = C"
   ]
  },
  {
   "cell_type": "code",
   "execution_count": 19,
   "id": "adf9803f",
   "metadata": {},
   "outputs": [],
   "source": [
    "data.to_csv(r'Desktop/air travel dataset.csv')"
   ]
  }
 ],
 "metadata": {
  "kernelspec": {
   "display_name": "Python 3",
   "language": "python",
   "name": "python3"
  },
  "language_info": {
   "codemirror_mode": {
    "name": "ipython",
    "version": 3
   },
   "file_extension": ".py",
   "mimetype": "text/x-python",
   "name": "python",
   "nbconvert_exporter": "python",
   "pygments_lexer": "ipython3",
   "version": "3.8.8"
  }
 },
 "nbformat": 4,
 "nbformat_minor": 5
}
